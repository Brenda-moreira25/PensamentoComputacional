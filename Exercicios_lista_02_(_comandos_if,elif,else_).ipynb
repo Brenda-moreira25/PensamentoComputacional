{
  "nbformat": 4,
  "nbformat_minor": 0,
  "metadata": {
    "colab": {
      "provenance": [],
      "authorship_tag": "ABX9TyOuLE/TUVsJ3UOdr2iXFAGX",
      "include_colab_link": true
    },
    "kernelspec": {
      "name": "python3",
      "display_name": "Python 3"
    },
    "language_info": {
      "name": "python"
    }
  },
  "cells": [
    {
      "cell_type": "markdown",
      "metadata": {
        "id": "view-in-github",
        "colab_type": "text"
      },
      "source": [
        "<a href=\"https://colab.research.google.com/github/Brenda-moreira25/PensamentoComputacional/blob/main/Exercicios_lista_02_(_comandos_if%2Celif%2Celse_).ipynb\" target=\"_parent\"><img src=\"https://colab.research.google.com/assets/colab-badge.svg\" alt=\"Open In Colab\"/></a>"
      ]
    },
    {
      "cell_type": "markdown",
      "source": [
        "##Exercícios Lista 02"
      ],
      "metadata": {
        "id": "AVfDa1zHs5D9"
      }
    },
    {
      "cell_type": "markdown",
      "source": [
        "1.Faça um algoritmo em Python para ler dois valores numéricos e apresentar a diferença do maior\n",
        "pelo menor."
      ],
      "metadata": {
        "id": "xvx9JgFxs9Qz"
      }
    },
    {
      "cell_type": "code",
      "source": [
        "from os import\n",
        "#Algoritmo calcule a diferença do maior\n",
        "\n",
        "#inicio\n",
        "x = float(input(\"Informe o primeiro valor:\"))\n",
        "y = float(input(\"Informe o segundo valor:\"))\n",
        "\n",
        "if x > y:\n",
        "  sub = x - y\n",
        "  print(\"O maior valor é \", x , \"e o menor valor é \", y ,\" e a diferençã entre eles é \", sub)\n",
        "\n",
        "else:\n",
        " if x == y:\n",
        "  sub = 0\n",
        "  print(\"Caso sejam iguais a diferença é \", sub)\n",
        "\n",
        " else:\n",
        "  sub = y - x\n",
        "  print(\"O maior valor é \", y , \"e o menor valor é, \", x ,\" e a diferençã entre eles é \", sub)\n"
      ],
      "metadata": {
        "id": "3wzD16Iuu9z5"
      },
      "execution_count": null,
      "outputs": []
    },
    {
      "cell_type": "markdown",
      "source": [
        "2.Faça um algoritmo em Python para ler dois números. Se os números forem iguais escrever a\n",
        "mensagem: \"NÚMEROS IGUAIS\" e encerrar a execução; caso contrário, escrever o de maior\n",
        "valor."
      ],
      "metadata": {
        "id": "XZeL9cbXy13D"
      }
    },
    {
      "cell_type": "code",
      "source": [
        "#Algoritmo descreve o status da diferença de dois numéros\n",
        "\n",
        "#Inicio\n",
        "x = float(input(\"Informe o primeiro número:\"))\n",
        "y = float(input(\"Informe o segundo número:\"))\n",
        "\n",
        "if x > y:\n",
        "  sub = x - y\n",
        "  print(\"O maior valor é \", sub)\n",
        "\n",
        "elif x == y:\n",
        "  sub = 0\n",
        "  print(\"NÚMEROS IGUAIS \")\n",
        "\n",
        "else:\n",
        "  sub = y - x\n",
        "  print(\"O maior valor é \", sub)\n"
      ],
      "metadata": {
        "colab": {
          "base_uri": "https://localhost:8080/"
        },
        "id": "N1YyKqPp1E7c",
        "outputId": "74e986a9-cedb-4fcc-ea89-34e32251f23f"
      },
      "execution_count": null,
      "outputs": [
        {
          "output_type": "stream",
          "name": "stdout",
          "text": [
            "Informe o primeiro número:20\n",
            "Informe o segundo número:20\n",
            "NÚMEROS IGUAIS \n"
          ]
        }
      ]
    },
    {
      "cell_type": "markdown",
      "source": [
        "3.Faça um algoritmo em Python para ler dois valores: NUM1 e NUM2, e se NUM1 for maior que\n",
        "NUM2 executa a soma de NUM1 e NUM2; caso contrário, executa uma subtração."
      ],
      "metadata": {
        "id": "Qq_coX_o2iZX"
      }
    },
    {
      "cell_type": "code",
      "source": [
        "#Algoritmo calcule a diferença de acordo com o solicitado\n",
        "\n",
        "#Inicio\n",
        "num1 = float(input(\"Digite o primeiro valor:\"))\n",
        "num2 = float(input(\"Digite o segundo valor:\"))\n",
        "\n",
        "if num1 > num2:\n",
        " soma = num1 + num2\n",
        " print(soma)\n",
        "\n",
        "else:\n",
        " num1 <= num2\n",
        " sub = num1 - num2\n",
        " print(sub)"
      ],
      "metadata": {
        "colab": {
          "base_uri": "https://localhost:8080/"
        },
        "id": "qNKcTy132mCu",
        "outputId": "15bc01cb-1e52-4629-e681-cc25aad34752"
      },
      "execution_count": null,
      "outputs": [
        {
          "output_type": "stream",
          "name": "stdout",
          "text": [
            "Digite o primeiro valor:50\n",
            "Digite o segundo valor:30\n",
            "80.0\n"
          ]
        }
      ]
    },
    {
      "cell_type": "markdown",
      "source": [
        "5.Escrever um programa em Python que lê as 3 notas obtidas por ele em provas. Para\n",
        "cada aluno, calcular a média de aproveitamento, usando a fórmula:\n",
        "\n",
        "```pythom\n",
        "\n",
        "A atribuição de conceitos obedece à tabela abaixo:\n",
        "Média de Aproveitamento Conceito\n",
        ">= 9.0 A\n",
        ">= 7.5 e < 9.0 B\n",
        ">= 6.0 e < 7.5 C\n",
        ">= 4.0 e < 6.0 D\n",
        "< 4.0 E\n",
        "\n",
        "```"
      ],
      "metadata": {
        "id": "tfSF4o-Qb1x2"
      }
    },
    {
      "cell_type": "code",
      "source": [
        "##Algoritmo leitura_notas\n",
        "\n",
        "#Inicio\n",
        "a = int(input(\"Informe a primeira nota: \"))\n",
        "b = float(input(\"Informe o segunda nota: \"))\n",
        "c = float(input(\"Informe o terceira nota: \"))\n",
        "\n",
        "m = n /3\n",
        "print (\"Amédia das tres notas é: \", m)\n",
        "n = (a + b + c)/3\n",
        "\n",
        "if n >= 9.0:\n",
        "  print(\"Conceito A\")\n",
        "\n",
        "elif n >= 7.5 and n < 9.0:\n",
        "   print(\"Conceito B\")\n",
        "\n",
        "elif n >= 6.0 and n < 7.5:\n",
        "   print(\"Conceito C\")\n",
        "\n",
        "elif n >= 4.0 and n < 6.0:\n",
        "   print(\"Conceito D\")\n",
        "\n",
        "elif n < 4.0:\n",
        "   print(\"Conceito E\")"
      ],
      "metadata": {
        "id": "cQ7NrzFdb6dH",
        "colab": {
          "base_uri": "https://localhost:8080/"
        },
        "outputId": "6cb0e98e-bfa6-4704-d261-688f39e6a01d"
      },
      "execution_count": 4,
      "outputs": [
        {
          "output_type": "stream",
          "name": "stdout",
          "text": [
            "Informe a primeira nota: 2\n",
            "Informe o segunda nota: 2\n",
            "Informe o terceira nota: 2\n",
            "Amédia das tres notas é:  3.3333333333333335\n",
            "Conceito E\n"
          ]
        }
      ]
    },
    {
      "cell_type": "markdown",
      "source": [
        "7. Escrever um programa em Python que lê os seguintes dados de um funcionário: o\n",
        "número de horas trabalhadas e o valor que recebe por hora. Calcular e escrever, o salário\n",
        "bruto (SB) e o valor de desconto do Imposto de Renda (IR) como segue:\n",
        "\n",
        "```pythom\n",
        "\n",
        "● Se SB > 3.500,00 então IR = 15% do SB\n",
        "● Se SB > 1.500,00 e SB <= 3.500,00 então IR = 8% do SB\n",
        "● Se SB <= 1.500,00 então IR = 0.\n",
        "\n",
        "```"
      ],
      "metadata": {
        "id": "rHe6N_HMb-su"
      }
    }
  ]
}