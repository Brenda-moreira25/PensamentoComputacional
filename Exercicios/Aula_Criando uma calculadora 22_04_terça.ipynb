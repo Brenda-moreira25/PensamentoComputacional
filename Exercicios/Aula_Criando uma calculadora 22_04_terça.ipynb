{
  "nbformat": 4,
  "nbformat_minor": 0,
  "metadata": {
    "colab": {
      "provenance": [],
      "authorship_tag": "ABX9TyMazhhdBzxky7h77QYTr0Eq",
      "include_colab_link": true
    },
    "kernelspec": {
      "name": "python3",
      "display_name": "Python 3"
    },
    "language_info": {
      "name": "python"
    }
  },
  "cells": [
    {
      "cell_type": "markdown",
      "metadata": {
        "id": "view-in-github",
        "colab_type": "text"
      },
      "source": [
        "<a href=\"https://colab.research.google.com/github/Brenda-moreira25/PensamentoComputacional/blob/main/Aula_Criando%20uma%20calculadora%2022_04_ter%C3%A7a.ipynb\" target=\"_parent\"><img src=\"https://colab.research.google.com/assets/colab-badge.svg\" alt=\"Open In Colab\"/></a>"
      ]
    },
    {
      "cell_type": "markdown",
      "source": [
        "#Cálculadora\n",
        "\n",
        "*   Soma +\n",
        "*   Subtração -\n",
        "*   Divisão /\n",
        "*   Multiplicacão *"
      ],
      "metadata": {
        "id": "qrRiv5Lg-5zB"
      }
    },
    {
      "cell_type": "code",
      "source": [
        "import math\n",
        "\n",
        "def soma(a,b):\n",
        "  return a + b\n",
        "\n",
        "def sub(a,b):\n",
        "  return a - b\n",
        "\n",
        "def mult(a,b):\n",
        "  return a * b\n",
        "\n",
        "def divisao(a,b):\n",
        "  return a / b\n",
        "\n",
        "def mod(a,b):\n",
        "  return a % b\n",
        "\n",
        "def div(a,b):\n",
        "  return a // b\n",
        "\n",
        "def raiz(a, b):\n",
        "  return a ** (1/b)\n",
        "\n",
        "def op(a, b):\n",
        "  return a ** b\n",
        "\n"
      ],
      "metadata": {
        "id": "FUIvHcEwmisQ"
      },
      "execution_count": 32,
      "outputs": []
    },
    {
      "cell_type": "code",
      "source": [
        "\n",
        "op_string = \"Digite: \"\n",
        "op_string +=\"\\n + para soma, \"\n",
        "op_string += \"\\n - para subtracao, \"\n",
        "op_string += \"\\n * para multiplicacao, \"\n",
        "op_string += \"\\n / para divisao, \"\n",
        "op_string += \"\\n ** para a ^ b,\"\n",
        "op_string += \"\\n // para a raiz b, \"\n",
        "op_string += \"\\n div para divisao inteira, \"\n",
        "op_string += \"\\n mod para resto da divisao interia ou\"\n",
        "op_string += \"\\n s para sair:\"\n",
        "\n",
        "\n",
        "while True:\n",
        "\n",
        "  a = float(input(\"Digite o primeiro valor: \"))\n",
        "  b = float(input(\"Digite o segundo valor: \"))\n",
        "\n",
        "  operacao = input(op_string)\n",
        "  if (operacao == \"s\"):\n",
        "    break\n",
        "\n",
        "  if operacao == \"+\":\n",
        "    print(\"O resultado da soma de \", a, \"e\", b, \"é de: \", soma(a, b))\n",
        "\n",
        "  if operacao == \"-\":\n",
        "    print(\"O resultado da subtração de \", a, \"e\", b, \"é de:\", sub(a, b))\n",
        "\n",
        "  if operacao == \"*\":\n",
        "    print(\"O resultado da multiplicação de \", a, \"e\", b, \"é de:\", mult(a, b))\n",
        "\n",
        "  if operacao == \"div\":\n",
        "    print(\"O resultado da divisao inteira de \", a, \"e\", b, \"é de:\", div(a, b))\n",
        "\n",
        "  if operacao == \"mod\":\n",
        "    print(\"O resultado do resto da divisao inteira de \", a, \"e\", b, \"é de:\", mod(a, b))\n",
        "\n",
        "  elif operacao == \"/\":\n",
        "    if b == 0:\n",
        "      print(\"O número dividido por zero, será infinito!\")\n",
        "    else:\n",
        "      print(\"O resultado da divisão de \", a, \"e\", b, \"é de :\", div(a, b))\n",
        "\n",
        "  else:\n",
        "    print(\" Comando inválido! \")\n",
        ""
      ],
      "metadata": {
        "id": "T-nmTqxSm9EH"
      },
      "execution_count": null,
      "outputs": []
    },
    {
      "cell_type": "code",
      "source": [],
      "metadata": {
        "id": "obm16Zw7nJif"
      },
      "execution_count": null,
      "outputs": []
    }
  ]
}