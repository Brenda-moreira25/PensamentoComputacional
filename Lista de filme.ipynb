{
  "nbformat": 4,
  "nbformat_minor": 0,
  "metadata": {
    "colab": {
      "provenance": [],
      "authorship_tag": "ABX9TyNFWufdJwXoKIwm6IG/PJ7s",
      "include_colab_link": true
    },
    "kernelspec": {
      "name": "python3",
      "display_name": "Python 3"
    },
    "language_info": {
      "name": "python"
    }
  },
  "cells": [
    {
      "cell_type": "markdown",
      "metadata": {
        "id": "view-in-github",
        "colab_type": "text"
      },
      "source": [
        "<a href=\"https://colab.research.google.com/github/Brenda-moreira25/PensamentoComputacional/blob/main/Lista%20de%20filme.ipynb\" target=\"_parent\"><img src=\"https://colab.research.google.com/assets/colab-badge.svg\" alt=\"Open In Colab\"/></a>"
      ]
    },
    {
      "cell_type": "markdown",
      "source": [
        "#Avaliação de filmes\n",
        "\n",
        "```python\n",
        "\n",
        "*  Até 1000 filmes\n",
        "*  Notas entre 0.0 e 10.0\n",
        "*  Média de notas de avaliações\n",
        "\n",
        "```"
      ],
      "metadata": {
        "id": "AgP4bFyIAkxs"
      }
    },
    {
      "cell_type": "code",
      "execution_count": null,
      "metadata": {
        "id": "LJMHza8hAZV1",
        "colab": {
          "base_uri": "https://localhost:8080/"
        },
        "outputId": "bf06363f-e0c3-4819-deb3-a1203f21f4b0"
      },
      "outputs": [
        {
          "output_type": "stream",
          "name": "stdout",
          "text": [
            "Digite o nome de algum filme ou sair para parar: Barbie\n",
            "Informe a nota para esse filme:7\n",
            "Digite o nome de algum filme ou sair para parar: Barbie\n",
            "O filme Barbie já foi cadastrado!\n",
            "Digite o nome de algum filme ou sair para parar: urso\n",
            "Informe a nota para esse filme:8\n",
            "Digite o nome de algum filme ou sair para parar: sair\n",
            "[{'nome': 'duna', 'nota': 8.5}, {'nome': 'Piratas do Caribe', 'nota': 9.6}, {'nome': 'Barbie', 'nota': 7.0}, {'nome': 'urso', 'nota': 8.0}]\n",
            "A média das notas será:  2.125\n"
          ]
        }
      ],
      "source": [
        "from contextlib import ContextDecorator\n",
        "# Constante:\n",
        "Capacidade = 1000\n",
        "\n",
        "#Criando meu dicionário\n",
        "filmes = [{\"nome\": \"duna\", \"nota\": 8.5},\n",
        "         {\"nome\": \"Piratas do Caribe\", \"nota\": 9.6}]\n",
        "\n",
        "#Atalhos de comandos\n",
        "def media(filmes):\n",
        "  contador = len(filmes)\n",
        "  if contador == 0:\n",
        "    return 0\n",
        "  soma = 0\n",
        "  for filme in filmes:\n",
        "    soma += filme[\"nota\"]\n",
        "    return soma/contador\n",
        "\n",
        "def duplicidade(novo, filmes):\n",
        "  for filme in filmes:\n",
        "    if novo == filme[\"nome\"]:\n",
        "      return True\n",
        "  return False\n",
        "\n",
        "def imprime_filmes(filmes):\n",
        "  for filme in filmes:\n",
        "    print(f\"O filme {filmes['nome']} recebeu a nota de {filmes['nota']} da crítica! \")\n",
        "\n",
        "\n",
        "#Aplicando/acessando minhas informações\n",
        "#Comando para identificar apenas o nome ou encerrar:\n",
        "while True:\n",
        "  nome = input(\"Digite o nome de algum filme ou sair para parar: \")\n",
        "  if nome == \"sair\":\n",
        "    break\n",
        "    # Para conferir se o filme não vai repitir:\n",
        "  if duplicidade(nome, filmes):\n",
        "    print(\"O filme\",nome, \"já foi cadastrado!\")\n",
        "  else:\n",
        "    #O replace é para caso o usúario escreva a nota com vírgula:\n",
        "    nota = float(input(\"Informe a nota para esse filme:\"))\n",
        "    filmes.append({\"nome\": nome, \"nota\":nota})\n",
        "  #comando para 1000\n",
        "  if len(filmes) > Capacidade:\n",
        "    print(\"Capacidade excedida\")\n",
        "    break\n",
        "\n",
        "\n",
        "\n",
        "#Exibindo todas informações e a média:\n",
        "print(filmes)\n",
        "print(f\"A média das notas será: \", media(filmes))\n",
        "\n",
        "\n"
      ]
    },
    {
      "cell_type": "code",
      "source": [
        "times = [{\"fruta\": \"banana\"}]\n",
        "\n",
        "times.append({\"fruta\" : \"bergamota\"})\n",
        "\n",
        "print(times)\n",
        "\n",
        "from os import scandir\n",
        "#sTRINGS/ editar dicionario\n",
        "op_string = \"DIGITE:\"\n",
        "op_string += \"\\n ad para adicionar filme,\"\n",
        "op_string += \"\\n ap para apagar filme,\"\n",
        "op_string += \"\\n ed para editar filme,\"\n",
        "op_string += \"\\n sa para sair!\""
      ],
      "metadata": {
        "colab": {
          "base_uri": "https://localhost:8080/"
        },
        "id": "LRAiqrVO2tBE",
        "outputId": "09ee7223-9977-41ae-c8ef-350063d8b031"
      },
      "execution_count": null,
      "outputs": [
        {
          "output_type": "stream",
          "name": "stdout",
          "text": [
            "[{'fruta': 'banana'}, {'fruta': 'bergamota'}]\n"
          ]
        }
      ]
    },
    {
      "cell_type": "code",
      "source": [
        "\n"
      ],
      "metadata": {
        "id": "34xX6AA6H065"
      },
      "execution_count": null,
      "outputs": []
    },
    {
      "cell_type": "code",
      "source": [
        "filmes = []\n",
        "notas = []\n",
        "\n",
        "while True:\n",
        "    nome_filme = input(\"Digite o nome do filme (ou 'parar' para encerrar): \")\n",
        "    if nome_filme.lower() == 'parar':\n",
        "        break\n",
        "\n",
        "    while True:\n",
        "        try:\n",
        "            nota = float(input(f\"Digite a nota de avaliação para '{nome_filme}': \"))\n",
        "            if 0 <= nota <= 10:\n",
        "                break\n",
        "            else:\n",
        "                print(\"A nota deve ser entre 0 e 10.\")\n",
        "        except ValueError:\n",
        "            print(\"Por favor, digite um número válido para a nota.\")\n",
        "\n",
        "    filmes.append(nome_filme)\n",
        "    notas.append(nota)\n",
        "    print(f\"Filme '{nome_filme}' com nota {nota} adicionado.\")\n",
        "\n",
        "print(\"\\n--- Lista de Filmes e Avaliações ---\")\n",
        "for i in range(len(filmes)):\n",
        "    print(f\"Filme: {filmes[i]}, Nota: {notas[i]}\")\n",
        "\n",
        "# Exemplo de como usar o 'del' para remover um filme e sua nota\n",
        "if filmes:\n",
        "    remover_indice = 0\n",
        "\n",
        "# Remove o primeiro filme adicionado\n",
        "    filme_removido = filmes[remover_indice]\n",
        "    nota_removida = notas[remover_indice]\n",
        "\n",
        "    del filmes[remover_indice]\n",
        "    del notas[remover_indice]\n",
        "    print(f\"\\nFilme '{filme_removido}' com nota {nota_removida} removido.\")\n",
        "\n",
        "    print(\"\\n--- Lista de Filmes e Avaliações Atualizada ---\")\n",
        "\n",
        "    for i in range(len(filmes)):\n",
        "        print(f\"Filme: {filmes[i]}, Nota: {notas[i]}\")\n",
        "else:\n",
        "    print(\"\\nNenhum filme foi adicionado à lista.\")"
      ],
      "metadata": {
        "id": "wMTeoJw66ohy"
      },
      "execution_count": null,
      "outputs": []
    }
  ]
}