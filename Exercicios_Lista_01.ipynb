{
  "nbformat": 4,
  "nbformat_minor": 0,
  "metadata": {
    "colab": {
      "provenance": [],
      "authorship_tag": "ABX9TyPW70WrMcrdGypP5BCZYQVJ",
      "include_colab_link": true
    },
    "kernelspec": {
      "name": "python3",
      "display_name": "Python 3"
    },
    "language_info": {
      "name": "python"
    }
  },
  "cells": [
    {
      "cell_type": "markdown",
      "metadata": {
        "id": "view-in-github",
        "colab_type": "text"
      },
      "source": [
        "<a href=\"https://colab.research.google.com/github/Brenda-moreira25/PensamentoComputacional/blob/main/Exercicios_Lista_01.ipynb\" target=\"_parent\"><img src=\"https://colab.research.google.com/assets/colab-badge.svg\" alt=\"Open In Colab\"/></a>"
      ]
    },
    {
      "cell_type": "markdown",
      "source": [
        "##Exercício de Aula: Comando de Entrada e Saída em Pythom.\n"
      ],
      "metadata": {
        "id": "P548Dx2uLtkL"
      }
    },
    {
      "cell_type": "markdown",
      "source": [
        "1. Faça em Python um algoritmo que leia um número inteiro qualquer. O algoritmo deve calcular e escrever o quadrado, a raiz quadrada, e a divisão do quadrado pela raiz quadrada do número lido."
      ],
      "metadata": {
        "id": "drjBettb832r"
      }
    },
    {
      "cell_type": "code",
      "source": [
        "#Algoritmo de cálculo de quadrado , raiz quadrada e divisão o quadrado pela raiz quadrada\n",
        "#bibliotecas\n",
        "import math\n",
        "\n",
        "#vars\n",
        "n = 0\n",
        "quad = 0\n",
        "raiz = 0.0\n",
        "div_quad_raiz = 0.0\n",
        "\n",
        "#inicio a captura do inteiro\n",
        "n = int (input(\"Informe um numero inteiro qualquer:\"))\n",
        "\n",
        "#quadrado de n\n",
        "quad = n**2\n",
        "\n",
        "#raiz quadrada\n",
        "raiz = math.sqrt(n)\n",
        "\n",
        "#divisao do quadrado pela raiza\n",
        "div_quad_raiz = quad/raiz\n",
        "\n",
        "print(\"O quadrado de \",n , \"é\", quad ,\",a raiz quadrada de\",n,\" é \",raiz, \" e divisão do quadrado pela raiz quadrada é\",div_quad_raiz)"
      ],
      "metadata": {
        "id": "O4bP85Bq9B9h",
        "colab": {
          "base_uri": "https://localhost:8080/"
        },
        "outputId": "a545a3f8-5f0d-42e4-a8c2-b40e53b939ca"
      },
      "execution_count": null,
      "outputs": [
        {
          "output_type": "stream",
          "name": "stdout",
          "text": [
            "Informe um numero inteiro qualquer:10\n",
            "O quadrado de  10 é 100 ,a raiz quadrada de 10  é  3.1622776601683795  e divisão do quadrado pela raiz quadrada é 31.622776601683793\n"
          ]
        }
      ]
    },
    {
      "cell_type": "markdown",
      "source": [
        "2.Faça em Python um algoritmo que calcule e escreva o preço final de um computador, sendo fornecido o\n",
        "preço de fábrica. O preço final do computador é calculado com base nos adicionais de: 30 % de imposto e\n",
        "10 % de revenda sobre o preço de fábrica."
      ],
      "metadata": {
        "id": "xWipMF4QCHMN"
      }
    },
    {
      "cell_type": "code",
      "source": [
        "#Algoritmo para calculo do preço final de um computador\n",
        "#bibliotecas\n",
        "import math\n",
        "\n",
        "\n",
        "#vars\n",
        "p_fabrica = 0\n",
        "imp = 30\n",
        "revend = 10\n",
        "p_final = 0\n",
        "\n",
        "#inicio\n",
        "p_fabrica = float(input(\"Informe o valor do computador\"))\n",
        "\n",
        "#valor do importo\n",
        "imp = p_fabrica*imp/100\n",
        "\n",
        "#valor de revenda\n",
        "p_fabrica*revend/100\n",
        "\n",
        "#preço final\n",
        "p_final = p_fabrica+imp+revend\n",
        "\n",
        "print (\"O valor final do computador será de\",p_final ,\"com o adicional de um imposto de \", imp)"
      ],
      "metadata": {
        "colab": {
          "base_uri": "https://localhost:8080/"
        },
        "outputId": "ea49a4ad-1e74-49f8-9d2f-67328bd3188d",
        "collapsed": true,
        "id": "h89WFNicC7DG"
      },
      "execution_count": null,
      "outputs": [
        {
          "output_type": "stream",
          "name": "stdout",
          "text": [
            "Informe o valor do computador1500\n",
            "O valor final do computador será de 1960.0 sobre um imposto de  450.0\n"
          ]
        }
      ]
    },
    {
      "cell_type": "markdown",
      "source": [
        "3.Faça um algoritmo em Python que leia três números inteiros e calcule a sua média. Ao final, o algoritmo\n",
        "deve escrever os números lidos e o resultado da média."
      ],
      "metadata": {
        "id": "nHEQP07AHLjQ"
      }
    },
    {
      "cell_type": "code",
      "source": [
        "#Calculo de média  de tres numeros distintos.\n",
        "\n",
        "#biblioteca\n",
        "import math\n",
        "\n",
        "#vars\n",
        "n1 = 0\n",
        "n2 = 0\n",
        "n3 = 0\n",
        "media = 0\n",
        "\n",
        "#inicio\n",
        "n1 = int(input(\"Informe a primeira nota:\"))\n",
        "n2 = int(input(\"Informe as segunda nota:\"))\n",
        "n3 = int(input(\"Informe a terceira notas:\"))\n",
        "\n",
        "media = (n1+n2+n3)/2\n",
        "\n",
        "print (\"Primeira nota é:\",n1 ,\"Segunda nota é\",n2, \"terceira nota é\",n3 ,\" com base nisso a media das notas é\", media)\n",
        "\n"
      ],
      "metadata": {
        "colab": {
          "base_uri": "https://localhost:8080/"
        },
        "collapsed": true,
        "id": "8qtvWd0WHO0J",
        "outputId": "365245c9-320c-4642-c03a-364d93c884c4"
      },
      "execution_count": null,
      "outputs": [
        {
          "output_type": "stream",
          "name": "stdout",
          "text": [
            "Informe a primeira nota:10\n",
            "Informe as segunda nota:20\n",
            "Informe a terceira notas:30\n",
            "Primeira nota é: 10 Segunda nota é 20 terceira nota é 30  com base nisso a media das notas é 30.0\n"
          ]
        }
      ]
    },
    {
      "cell_type": "markdown",
      "source": [
        "4.Fazer um algoritmo em Python que calcule o número de litros de combustível gastos em uma viagem,\n",
        "sabendo-se que o carro faz 12 km com um litro. Deverão ser lidos o tempo gasto na viagem e a velocidade\n",
        "média."
      ],
      "metadata": {
        "id": "HcIHZuJ5M5Tw"
      }
    },
    {
      "cell_type": "code",
      "source": [
        "#Algoritmo para calculo de gastos de gasolina por km.\n",
        "#blibioteca\n",
        "import math\n",
        "\n",
        "n_litros = 0\n",
        "distancia_por_km = 0\n",
        "tempo_viagem = 0\n",
        "velocidade = 0\n",
        "\n",
        "#inicio\n",
        "velocidade = int(input (\"Digite a velocidade que o carro esta :\"))\n",
        "tempo_viagem = int(input (\"Digite o tempo de viagem a ser percorrido:\"))\n",
        "\n",
        "#distancia\n",
        "distancia_por_km = tempo_viagem * velocidade\n",
        "\n",
        "#litros\n",
        "n_litros = distancia_por_km / 12\n",
        "\n",
        "#velocidade_media\n",
        "velocidade_m = distancia_por_km / tempo_viagem\n",
        "\n",
        "#tempo percorrido\n",
        "tempo_viagem = distancia_por_km / velocidade_m\n",
        "\n",
        "print (\"Será gasto \", n_litros, \"para percorrer \", tempo_viagem )"
      ],
      "metadata": {
        "colab": {
          "base_uri": "https://localhost:8080/"
        },
        "collapsed": true,
        "id": "18fr1E4JY4Jf",
        "outputId": "f5b1c194-f141-4e25-90b8-22ad7f034280"
      },
      "execution_count": null,
      "outputs": [
        {
          "output_type": "stream",
          "name": "stdout",
          "text": [
            "Digite a velocidade que o carro esta :60\n",
            "Digite o tempo de viagem a ser percorrido:30\n",
            "Será gasto  150.0 para percorrer  30.0\n"
          ]
        }
      ]
    },
    {
      "cell_type": "markdown",
      "source": [
        "5.Faça em Python um algoritmo que leia dois números inteiros (x e y), e calcule o quociente e o resto da\n",
        "divisão de x por y e escreva os resultados."
      ],
      "metadata": {
        "id": "dW7R_HdwuJ6j"
      }
    },
    {
      "cell_type": "code",
      "source": [
        "#Algoritmo ler dois numeros e calcular\n",
        "\n",
        "#inicio\n",
        "x = int(input(\"Informe um número para ser dividido:\"))\n",
        "y = int(input(\"Informe um número para ser o divisor:\"))\n",
        "\n",
        "#x = x mod y\n",
        "resto = x % y\n",
        "\n",
        "#y = x div y\n",
        "quociente = x // y\n",
        "\n",
        "print (\"O quociente do número x será \",x ,\" e o resto será\", y )"
      ],
      "metadata": {
        "id": "X6o5jFXquXR2"
      },
      "execution_count": null,
      "outputs": []
    },
    {
      "cell_type": "markdown",
      "source": [
        "6.Escreva em python um algoritmo que leia três números reais (a, b, c), e calcule a média aritmética. Após\n",
        "os cálculos, os resultados deverão ser escritos."
      ],
      "metadata": {
        "id": "o51t_G-Uxufd"
      }
    },
    {
      "cell_type": "code",
      "source": [
        "#Algortmo calcule a média de tres numeros.\n",
        "\n",
        "#vars\n",
        "a = 0\n",
        "b = 0\n",
        "c = 0\n",
        "\n",
        "#Inicio\n",
        "\n",
        "a =  int(input (\"Informe o primeiro numero: \"))\n",
        "b =  int(input (\"Informe o segundo numero:\"))\n",
        "c =  int(input (\"Informe o terceiro numero:\"))\n",
        "\n",
        "media = (a + b + c) / 3\n",
        "\n",
        "print (\"O resultado da média da soma de \", a ,\",\", b,\",\", c ,\", será:\",media )"
      ],
      "metadata": {
        "collapsed": true,
        "id": "abBFM9egxyyz",
        "colab": {
          "base_uri": "https://localhost:8080/"
        },
        "outputId": "51a50977-148b-4166-bc14-94630c910fee"
      },
      "execution_count": null,
      "outputs": [
        {
          "output_type": "stream",
          "name": "stdout",
          "text": [
            "Informe o primeiro numero: 10\n",
            "Informe o segundo numero:20\n",
            "Informe o terceiro numero:20\n",
            "O resultado damédia da soma de  10 , 20 , 20 , será: 16.666666666666668\n"
          ]
        }
      ]
    },
    {
      "cell_type": "markdown",
      "source": [
        "7.Uma loja de equipamentos de informática resolveu incentivar os seus funcionários a venderem no mês\n",
        "março. Para cada produto vendido, a loja dará uma bonificação de 1%, sobre o salário do funcionário.\n",
        "Desta forma, o funcionário que vender 10 produtos, terá um acréscimo de 10% em seu salário. Faça um\n",
        "algoritmo em Python que leia o código, o nome e o salário fixo do funcionário, além do número de\n",
        "produtos vendidos por ele no mês, e calcule o salário final do funcionário. Por fim, o algoritmo deve\n",
        "escrever o código e o nome do funcionário, juntamente com o seu salário final."
      ],
      "metadata": {
        "id": "-I5np37_1EfZ"
      }
    },
    {
      "cell_type": "code",
      "source": [
        "# Leitura dos dados do funcionário\n",
        "codigo = input(\"Digite o código do funcionário: \")\n",
        "nome = input(\"Digite o nome do funcionário: \")\n",
        "salario_fixo = float(input(\"Digite o salário fixo do funcionário: R$ \"))\n",
        "produtos_vendidos = int(input(\"Digite o número de produtos vendidos: \"))\n",
        "\n",
        "# Cálculo da bonificação\n",
        "bonificacao = produtos_vendidos * 0.01 * salario_fixo\n",
        "\n",
        "# Cálculo do salário final\n",
        "salario_final = salario_fixo + bonificacao\n",
        "\n",
        "# Exibição dos resultados\n",
        "print(f\"Código do Funcionário: {codigo}\")\n",
        "print(f\"Nome do Funcionário: {nome}\")\n",
        "print(f\"Salário Final: R$ {salario_final:.2f}\")"
      ],
      "metadata": {
        "id": "FSiZXKeT1LEG",
        "colab": {
          "base_uri": "https://localhost:8080/"
        },
        "outputId": "32e3d8d6-f501-4842-bff9-11cfe74ff47a"
      },
      "execution_count": 1,
      "outputs": [
        {
          "output_type": "stream",
          "name": "stdout",
          "text": [
            "Digite o código do funcionário: 123456\n",
            "Digite o nome do funcionário: lucas\n",
            "Digite o salário fixo do funcionário: R$ 1500\n",
            "Digite o número de produtos vendidos: 2\n",
            "Código do Funcionário: 123456\n",
            "Nome do Funcionário: lucas\n",
            "Salário Final: R$ 1530.00\n"
          ]
        }
      ]
    },
    {
      "cell_type": "markdown",
      "source": [
        "10.Construa um algoritmo em Python que calcule a quantidade de latas de tintas necessárias e o custo para\n",
        "pintar tanques cilíndricos de combustível, onde são fornecidos a altura e o raio deste cilindro. Sabendo\n",
        "que:Construa um algoritmo em Python que calcule a quantidade de latas de tintas necessárias e o custo para\n",
        "pintar tanques cilíndricos de combustível, onde são fornecidos a altura e o raio deste cilindro. Sabendo\n",
        "que:"
      ],
      "metadata": {
        "id": "jOxiHHPz1zL8"
      }
    },
    {
      "cell_type": "code",
      "source": [
        "#Algoritmo\n",
        "import math\n",
        "\n",
        "# Definições\n",
        "cobertura_por_lata = 10  # Área que uma lata de tinta cobre em m²\n",
        "preco_por_lata = 50.0     # Preço de uma lata de tinta em R$\n",
        "\n",
        "# Leitura dos dados do cilindro\n",
        "raio = float(input(\"Digite o raio do cilindro (em metros): \"))\n",
        "altura = float(input(\"Digite a altura do cilindro (em metros): \"))\n",
        "\n",
        "# Cálculo da área da superfície lateral do cilindro\n",
        "area_superficie = 2 * math.pi * raio * altura\n",
        "\n",
        "# Cálculo da quantidade de latas necessárias\n",
        "latas_necessarias = area_superficie / cobertura_por_lata\n",
        "latas_necessarias = math.ceil(latas_necessarias)  # Arredonda para cima\n",
        "\n",
        "# Cálculo do custo total\n",
        "custo_total = latas_necessarias * preco_por_lata\n",
        "\n",
        "# Exibição dos resultados\n",
        "print(f\"Área da superfície lateral do cilindro: {area_superficie:.2f} m²\")\n",
        "print(f\"Quantidade de latas de tinta necessárias: {latas_necessarias}\")\n",
        "print(f\"Custo total para pintar o cilindro: R$ {custo_total:.2f}\")"
      ],
      "metadata": {
        "id": "-k0HTtfk18nV"
      },
      "execution_count": null,
      "outputs": []
    }
  ]
}